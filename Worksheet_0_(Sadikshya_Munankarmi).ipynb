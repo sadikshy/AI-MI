{
  "nbformat": 4,
  "nbformat_minor": 0,
  "metadata": {
    "colab": {
      "provenance": []
    },
    "kernelspec": {
      "name": "python3",
      "display_name": "Python 3"
    },
    "language_info": {
      "name": "python"
    }
  },
  "cells": [
    {
      "cell_type": "markdown",
      "source": [
        "#Worksheet 0"
      ],
      "metadata": {
        "id": "HmlzwRP7tlJG"
      }
    },
    {
      "cell_type": "markdown",
      "source": [
        "##Importing Necessary Libraries"
      ],
      "metadata": {
        "id": "KtPO7SuAto7l"
      }
    },
    {
      "cell_type": "code",
      "execution_count": 50,
      "metadata": {
        "id": "4jpW4aLksfQw"
      },
      "outputs": [],
      "source": [
        "import numpy as np\n",
        "import time"
      ]
    },
    {
      "cell_type": "code",
      "source": [
        "from google.colab import drive\n",
        "drive.mount('/content/drive')"
      ],
      "metadata": {
        "colab": {
          "base_uri": "https://localhost:8080/"
        },
        "id": "a42ZceMb-bVE",
        "outputId": "2a386b2d-360d-477b-d593-a80a112bc952"
      },
      "execution_count": 51,
      "outputs": [
        {
          "output_type": "stream",
          "name": "stdout",
          "text": [
            "Drive already mounted at /content/drive; to attempt to forcibly remount, call drive.mount(\"/content/drive\", force_remount=True).\n"
          ]
        }
      ]
    },
    {
      "cell_type": "markdown",
      "source": [
        "#10.   TO-Do-NumPy\n",
        "\n",
        "#10.1  Basic Vector and Matrix Operation with Numpy.\n",
        "\n"
      ],
      "metadata": {
        "id": "q3JuyvloLzQE"
      }
    },
    {
      "cell_type": "markdown",
      "source": [
        "##Problem - 1: Array Creation"
      ],
      "metadata": {
        "id": "_lHKK-IYvFRU"
      }
    },
    {
      "cell_type": "markdown",
      "source": [
        "###1. Initializing Empty Array (2 * 2)"
      ],
      "metadata": {
        "id": "V7mNb6HHuMO7"
      }
    },
    {
      "cell_type": "code",
      "source": [
        "array = np.empty((2, 2))\n",
        "array #contains garbage values"
      ],
      "metadata": {
        "colab": {
          "base_uri": "https://localhost:8080/"
        },
        "id": "IghEv9ZhuSW2",
        "outputId": "3176d172-fc4a-4468-9815-e3a5d042572c"
      },
      "execution_count": 52,
      "outputs": [
        {
          "output_type": "execute_result",
          "data": {
            "text/plain": [
              "array([[2.1267044e-316, 0.0000000e+000],\n",
              "       [9.8813129e-324,            nan]])"
            ]
          },
          "metadata": {},
          "execution_count": 52
        }
      ]
    },
    {
      "cell_type": "code",
      "source": [
        "array = np.zeros((2, 2))\n",
        "array #initializes with 0"
      ],
      "metadata": {
        "colab": {
          "base_uri": "https://localhost:8080/"
        },
        "id": "6ED3VzQwuhes",
        "outputId": "71bcee5d-0081-4d09-a8db-c6df2c8f2601"
      },
      "execution_count": 53,
      "outputs": [
        {
          "output_type": "execute_result",
          "data": {
            "text/plain": [
              "array([[0., 0.],\n",
              "       [0., 0.]])"
            ]
          },
          "metadata": {},
          "execution_count": 53
        }
      ]
    },
    {
      "cell_type": "code",
      "source": [
        "array = np.full((2, 2), 20) #you can specify your initialization value\n",
        "array #20"
      ],
      "metadata": {
        "colab": {
          "base_uri": "https://localhost:8080/"
        },
        "id": "xss1mQBmuoM6",
        "outputId": "d70ba727-eee0-40b0-b208-89a3550d496c"
      },
      "execution_count": 54,
      "outputs": [
        {
          "output_type": "execute_result",
          "data": {
            "text/plain": [
              "array([[20, 20],\n",
              "       [20, 20]])"
            ]
          },
          "metadata": {},
          "execution_count": 54
        }
      ]
    },
    {
      "cell_type": "markdown",
      "source": [
        "###2. Initializing all one array (4 * 2)"
      ],
      "metadata": {
        "id": "5feXdI26vDqe"
      }
    },
    {
      "cell_type": "code",
      "source": [
        "array = np.ones((4, 2), dtype=int) #set type to integer initiall float\n",
        "array"
      ],
      "metadata": {
        "colab": {
          "base_uri": "https://localhost:8080/"
        },
        "id": "YK32JemAu0G1",
        "outputId": "788bfda6-1284-4a8b-817e-f1523177aac6"
      },
      "execution_count": 55,
      "outputs": [
        {
          "output_type": "execute_result",
          "data": {
            "text/plain": [
              "array([[1, 1],\n",
              "       [1, 1],\n",
              "       [1, 1],\n",
              "       [1, 1]])"
            ]
          },
          "metadata": {},
          "execution_count": 55
        }
      ]
    },
    {
      "cell_type": "code",
      "source": [
        "array = np.full((4, 2), 1)\n",
        "array"
      ],
      "metadata": {
        "colab": {
          "base_uri": "https://localhost:8080/"
        },
        "id": "fcxdtD59vUx8",
        "outputId": "6c62ebe5-32c3-4309-dc48-42371406dfd5"
      },
      "execution_count": 56,
      "outputs": [
        {
          "output_type": "execute_result",
          "data": {
            "text/plain": [
              "array([[1, 1],\n",
              "       [1, 1],\n",
              "       [1, 1],\n",
              "       [1, 1]])"
            ]
          },
          "metadata": {},
          "execution_count": 56
        }
      ]
    },
    {
      "cell_type": "markdown",
      "source": [
        "###3. New Array of Given Shape and type filled with fill value"
      ],
      "metadata": {
        "id": "6GTqMzNhvqA0"
      }
    },
    {
      "cell_type": "code",
      "source": [
        "array = np.full((4, 4), 9, dtype=int)\n",
        "array"
      ],
      "metadata": {
        "colab": {
          "base_uri": "https://localhost:8080/"
        },
        "id": "ar5bOe4Qv14a",
        "outputId": "796323aa-da42-4739-caf6-eccc59724f29"
      },
      "execution_count": 57,
      "outputs": [
        {
          "output_type": "execute_result",
          "data": {
            "text/plain": [
              "array([[9, 9, 9, 9],\n",
              "       [9, 9, 9, 9],\n",
              "       [9, 9, 9, 9],\n",
              "       [9, 9, 9, 9]])"
            ]
          },
          "metadata": {},
          "execution_count": 57
        }
      ]
    },
    {
      "cell_type": "markdown",
      "source": [
        "###4. New array of zeros with same shape and type as given array"
      ],
      "metadata": {
        "id": "De-1ZrLQwPTh"
      }
    },
    {
      "cell_type": "code",
      "source": [
        "array = np.full((4, 4), 8)\n",
        "new_array = np.zeros_like(array)\n",
        "new_array"
      ],
      "metadata": {
        "colab": {
          "base_uri": "https://localhost:8080/"
        },
        "id": "8TfNOjgxwVr9",
        "outputId": "976541b5-09c4-4855-803c-92ebe51d56cf"
      },
      "execution_count": 58,
      "outputs": [
        {
          "output_type": "execute_result",
          "data": {
            "text/plain": [
              "array([[0, 0, 0, 0],\n",
              "       [0, 0, 0, 0],\n",
              "       [0, 0, 0, 0],\n",
              "       [0, 0, 0, 0]])"
            ]
          },
          "metadata": {},
          "execution_count": 58
        }
      ]
    },
    {
      "cell_type": "markdown",
      "source": [
        "###5. New array of ones with same shape and type as given array"
      ],
      "metadata": {
        "id": "oCfy_0p6wpcV"
      }
    },
    {
      "cell_type": "code",
      "source": [
        "array = np.full((4, 3), 8)\n",
        "new_array = np.ones_like(array)\n",
        "new_array"
      ],
      "metadata": {
        "colab": {
          "base_uri": "https://localhost:8080/"
        },
        "id": "0YVB2p_Tw8ti",
        "outputId": "30617af4-582a-4992-b9e5-2cedc660871b"
      },
      "execution_count": 59,
      "outputs": [
        {
          "output_type": "execute_result",
          "data": {
            "text/plain": [
              "array([[1, 1, 1],\n",
              "       [1, 1, 1],\n",
              "       [1, 1, 1],\n",
              "       [1, 1, 1]])"
            ]
          },
          "metadata": {},
          "execution_count": 59
        }
      ]
    },
    {
      "cell_type": "markdown",
      "source": [
        "###6. Convert to NumPy array"
      ],
      "metadata": {
        "id": "2kM0RDBkxDqq"
      }
    },
    {
      "cell_type": "code",
      "source": [
        "new_list = [1, 2, 3, 4]\n",
        "np_list = np.array(new_list)\n",
        "print(\"Normal List: \", new_list)\n",
        "print(\"Numpy List: \", np_list)"
      ],
      "metadata": {
        "colab": {
          "base_uri": "https://localhost:8080/"
        },
        "id": "VxfYhls4xHtI",
        "outputId": "4f96b408-dd2a-4c87-ec90-e32124b12f72"
      },
      "execution_count": 60,
      "outputs": [
        {
          "output_type": "stream",
          "name": "stdout",
          "text": [
            "Normal List:  [1, 2, 3, 4]\n",
            "Numpy List:  [1 2 3 4]\n"
          ]
        }
      ]
    },
    {
      "cell_type": "markdown",
      "source": [
        "##Problem - 2: Array Manipulation: Numerical Ranges and Array Indexing"
      ],
      "metadata": {
        "id": "nPBkNM7ZxbWO"
      }
    },
    {
      "cell_type": "markdown",
      "source": [
        "###1. Create an array with values ranging from 10 to 49"
      ],
      "metadata": {
        "id": "tvT0AZMSyCpO"
      }
    },
    {
      "cell_type": "code",
      "source": [
        "array = np.arange(10, 50)\n",
        "array"
      ],
      "metadata": {
        "colab": {
          "base_uri": "https://localhost:8080/"
        },
        "id": "cyJQwTDUxaJO",
        "outputId": "61367d64-f498-40c0-f7ba-fa1c675a0f88"
      },
      "execution_count": 61,
      "outputs": [
        {
          "output_type": "execute_result",
          "data": {
            "text/plain": [
              "array([10, 11, 12, 13, 14, 15, 16, 17, 18, 19, 20, 21, 22, 23, 24, 25, 26,\n",
              "       27, 28, 29, 30, 31, 32, 33, 34, 35, 36, 37, 38, 39, 40, 41, 42, 43,\n",
              "       44, 45, 46, 47, 48, 49])"
            ]
          },
          "metadata": {},
          "execution_count": 61
        }
      ]
    },
    {
      "cell_type": "markdown",
      "source": [
        "###2. Create a 3X3 matrix with values ranging from 0 to 8"
      ],
      "metadata": {
        "id": "Y-M5n2shy1ad"
      }
    },
    {
      "cell_type": "code",
      "source": [
        "array = np.arange(0, 9)\n",
        "reshaped = np.reshape(array, (3, 3))\n",
        "print(array)\n",
        "print(reshaped)"
      ],
      "metadata": {
        "colab": {
          "base_uri": "https://localhost:8080/"
        },
        "id": "9Kxd1jnVyNYl",
        "outputId": "4dbd7bdb-782f-44ae-e297-5be3468bc72a"
      },
      "execution_count": 62,
      "outputs": [
        {
          "output_type": "stream",
          "name": "stdout",
          "text": [
            "[0 1 2 3 4 5 6 7 8]\n",
            "[[0 1 2]\n",
            " [3 4 5]\n",
            " [6 7 8]]\n"
          ]
        }
      ]
    },
    {
      "cell_type": "markdown",
      "source": [
        "###3. Create a 3*3 identity matrix"
      ],
      "metadata": {
        "id": "Tao14ESa0dVu"
      }
    },
    {
      "cell_type": "code",
      "source": [
        "array = np.eye(3, dtype=int)\n",
        "array"
      ],
      "metadata": {
        "colab": {
          "base_uri": "https://localhost:8080/"
        },
        "id": "4uX8om2H0c_W",
        "outputId": "b8805cb3-e3bf-4cf0-cbfc-0f28b9f408c3"
      },
      "execution_count": 63,
      "outputs": [
        {
          "output_type": "execute_result",
          "data": {
            "text/plain": [
              "array([[1, 0, 0],\n",
              "       [0, 1, 0],\n",
              "       [0, 0, 1]])"
            ]
          },
          "metadata": {},
          "execution_count": 63
        }
      ]
    },
    {
      "cell_type": "markdown",
      "source": [
        "###4. Random Array Size 30 and Mean"
      ],
      "metadata": {
        "id": "LW9MdaH_02pa"
      }
    },
    {
      "cell_type": "code",
      "source": [
        "random_arr = np.random.random(30)\n",
        "\n",
        "mean_arr = random_arr.mean()\n",
        "\n",
        "print(random_arr)\n",
        "print(\"Mean: \", mean_arr)"
      ],
      "metadata": {
        "colab": {
          "base_uri": "https://localhost:8080/"
        },
        "id": "l4ULKFSd0xLi",
        "outputId": "17057322-9604-4f9e-c64a-956a621fdf29"
      },
      "execution_count": 64,
      "outputs": [
        {
          "output_type": "stream",
          "name": "stdout",
          "text": [
            "[0.64887829 0.04639745 0.94103336 0.89611066 0.04255824 0.09622979\n",
            " 0.21178251 0.33806904 0.48762633 0.62788523 0.12397771 0.31323091\n",
            " 0.78249153 0.48010521 0.96596828 0.26202943 0.53608602 0.22130218\n",
            " 0.37486404 0.21591645 0.04886339 0.45806118 0.68408175 0.62780355\n",
            " 0.32930518 0.58837595 0.37665856 0.91055539 0.1273511  0.56350608]\n",
            "Mean:  0.44423682720220864\n"
          ]
        }
      ]
    },
    {
      "cell_type": "markdown",
      "source": [
        "###5. Create a 10X10 array with random values and find the minimum and maximum values"
      ],
      "metadata": {
        "id": "qRxQIR5L3BwW"
      }
    },
    {
      "cell_type": "code",
      "source": [
        "# random_arr = np.random.random((10, 10))\n",
        "random_arr = np.random.randint(1, 10, (10, 10))\n",
        "min = random_arr.min()\n",
        "max = random_arr.max()\n",
        "\n",
        "print(random_arr)\n",
        "print()\n",
        "print(\"Min: \", min)\n",
        "print(\"Max: \", max)"
      ],
      "metadata": {
        "colab": {
          "base_uri": "https://localhost:8080/"
        },
        "id": "bRPeMC8w3BUa",
        "outputId": "864f28c9-3200-4ac6-e51a-ba3cf87775fb"
      },
      "execution_count": 65,
      "outputs": [
        {
          "output_type": "stream",
          "name": "stdout",
          "text": [
            "[[2 1 5 4 4 4 5 8 3 7]\n",
            " [9 8 6 7 2 9 3 7 7 4]\n",
            " [8 8 6 3 5 3 2 5 6 1]\n",
            " [7 6 4 3 2 7 7 8 3 1]\n",
            " [5 7 1 3 6 5 8 8 7 8]\n",
            " [7 7 9 2 2 6 7 3 2 5]\n",
            " [3 7 2 4 3 4 6 6 4 3]\n",
            " [2 8 7 6 7 7 4 7 3 1]\n",
            " [5 4 1 7 7 5 9 8 4 1]\n",
            " [3 9 8 8 9 2 1 5 3 9]]\n",
            "\n",
            "Min:  1\n",
            "Max:  9\n"
          ]
        }
      ]
    },
    {
      "cell_type": "markdown",
      "source": [
        "###6. Create a zero array of size 10 and replace 5th element with 1"
      ],
      "metadata": {
        "id": "WtMi6wc54WZb"
      }
    },
    {
      "cell_type": "code",
      "source": [
        "array = np.zeros(10, dtype=int)\n",
        "print(array)\n",
        "array[4] = 1\n",
        "print(array)"
      ],
      "metadata": {
        "colab": {
          "base_uri": "https://localhost:8080/"
        },
        "id": "T6xfd6br4asL",
        "outputId": "ea786c80-d1e5-47bd-f2dc-940f050946be"
      },
      "execution_count": 66,
      "outputs": [
        {
          "output_type": "stream",
          "name": "stdout",
          "text": [
            "[0 0 0 0 0 0 0 0 0 0]\n",
            "[0 0 0 0 1 0 0 0 0 0]\n"
          ]
        }
      ]
    },
    {
      "cell_type": "markdown",
      "source": [
        "###7. Reverse an array"
      ],
      "metadata": {
        "id": "QyWBuLHC4xIe"
      }
    },
    {
      "cell_type": "code",
      "source": [
        "array = [1 , 2, 0, 0, 4, 0]\n",
        "rev_arr = array[::-1]\n",
        "rev_arr"
      ],
      "metadata": {
        "colab": {
          "base_uri": "https://localhost:8080/"
        },
        "id": "a08igI7B71NR",
        "outputId": "0322e76c-58b8-491d-d69f-ceca54d23ef7"
      },
      "execution_count": 67,
      "outputs": [
        {
          "output_type": "execute_result",
          "data": {
            "text/plain": [
              "[0, 4, 0, 0, 2, 1]"
            ]
          },
          "metadata": {},
          "execution_count": 67
        }
      ]
    },
    {
      "cell_type": "markdown",
      "source": [
        "###8. Create a 2d array with 1 on border and 0 inside"
      ],
      "metadata": {
        "id": "I0dQpnBk8F5m"
      }
    },
    {
      "cell_type": "code",
      "source": [
        "arr = np.random.randint(1, 10, (7, 7))\n",
        "\n",
        "# arr = np.zeros_like(arr)\n",
        "arr[0, :] = 1\n",
        "arr[-1, :] = 1\n",
        "arr[:, 0] = 1\n",
        "arr[:, -1] = 1\n",
        "\n",
        "arr[0:-1, 1:-1] = 0\n",
        "\n",
        "arr"
      ],
      "metadata": {
        "colab": {
          "base_uri": "https://localhost:8080/"
        },
        "id": "_quSK1qs8Lrs",
        "outputId": "64b2f1ca-7bd3-436b-ecf8-cc78a6902d1d"
      },
      "execution_count": 68,
      "outputs": [
        {
          "output_type": "execute_result",
          "data": {
            "text/plain": [
              "array([[1, 0, 0, 0, 0, 0, 1],\n",
              "       [1, 0, 0, 0, 0, 0, 1],\n",
              "       [1, 0, 0, 0, 0, 0, 1],\n",
              "       [1, 0, 0, 0, 0, 0, 1],\n",
              "       [1, 0, 0, 0, 0, 0, 1],\n",
              "       [1, 0, 0, 0, 0, 0, 1],\n",
              "       [1, 1, 1, 1, 1, 1, 1]])"
            ]
          },
          "metadata": {},
          "execution_count": 68
        }
      ]
    },
    {
      "cell_type": "markdown",
      "source": [
        "###9. Create a 8X8 matrix and fill it with a checkerboard pattern"
      ],
      "metadata": {
        "id": "wh0jVCsHBmgY"
      }
    },
    {
      "cell_type": "code",
      "source": [
        "array = np.zeros((8, 8), dtype=int)\n",
        "\n",
        "array[1::2, 0::2] = 1\n",
        "array[::2, 1::2] = 1\n",
        "array"
      ],
      "metadata": {
        "colab": {
          "base_uri": "https://localhost:8080/"
        },
        "id": "sBIudlc6CHaM",
        "outputId": "175c94b3-7fcf-44c6-a42a-bcec31eed62b"
      },
      "execution_count": 78,
      "outputs": [
        {
          "output_type": "execute_result",
          "data": {
            "text/plain": [
              "array([[0, 1, 0, 1, 0, 1, 0, 1],\n",
              "       [1, 0, 1, 0, 1, 0, 1, 0],\n",
              "       [0, 1, 0, 1, 0, 1, 0, 1],\n",
              "       [1, 0, 1, 0, 1, 0, 1, 0],\n",
              "       [0, 1, 0, 1, 0, 1, 0, 1],\n",
              "       [1, 0, 1, 0, 1, 0, 1, 0],\n",
              "       [0, 1, 0, 1, 0, 1, 0, 1],\n",
              "       [1, 0, 1, 0, 1, 0, 1, 0]])"
            ]
          },
          "metadata": {},
          "execution_count": 78
        }
      ]
    },
    {
      "cell_type": "markdown",
      "source": [
        "##Problem - 3: Array Operations"
      ],
      "metadata": {
        "id": "08ArRNw3WRRK"
      }
    },
    {
      "cell_type": "code",
      "source": [
        "x = np.array([[1, 2], [3, 5]])\n",
        "y = np.array([[5, 6], [7, 8]])\n",
        "v = np.array([9, 10])\n",
        "w = np.array([11, 12])"
      ],
      "metadata": {
        "id": "kopYagIcWT5T"
      },
      "execution_count": 70,
      "outputs": []
    },
    {
      "cell_type": "markdown",
      "source": [
        "###1. Add Arrays"
      ],
      "metadata": {
        "id": "Poa4jtH7hZoI"
      }
    },
    {
      "cell_type": "code",
      "source": [
        "sum = x + y\n",
        "sum1 = v + w\n",
        "print(sum)\n",
        "print()\n",
        "print(sum1)"
      ],
      "metadata": {
        "colab": {
          "base_uri": "https://localhost:8080/"
        },
        "id": "M_yKg4ITZppN",
        "outputId": "89528b19-d452-442b-fcd5-62b2883a36ca"
      },
      "execution_count": 71,
      "outputs": [
        {
          "output_type": "stream",
          "name": "stdout",
          "text": [
            "[[ 6  8]\n",
            " [10 13]]\n",
            "\n",
            "[20 22]\n"
          ]
        }
      ]
    },
    {
      "cell_type": "markdown",
      "source": [
        "###2. Subtract Arrays"
      ],
      "metadata": {
        "id": "CFsCnFnZhm-w"
      }
    },
    {
      "cell_type": "code",
      "source": [
        "sub = x - y\n",
        "sub1 = v - w\n",
        "print(sub)\n",
        "print()\n",
        "print(sub1)"
      ],
      "metadata": {
        "colab": {
          "base_uri": "https://localhost:8080/"
        },
        "id": "6q84oJhZhjph",
        "outputId": "4c4345f6-964d-48a2-90ce-0c28a7f64c43"
      },
      "execution_count": 72,
      "outputs": [
        {
          "output_type": "stream",
          "name": "stdout",
          "text": [
            "[[-4 -4]\n",
            " [-4 -3]]\n",
            "\n",
            "[-2 -2]\n"
          ]
        }
      ]
    },
    {
      "cell_type": "markdown",
      "source": [
        "###3. Multiply Array With Integer"
      ],
      "metadata": {
        "id": "ZhwWzHKSh0K-"
      }
    },
    {
      "cell_type": "code",
      "source": [
        "mulArr = 7 * x\n",
        "mulArr"
      ],
      "metadata": {
        "colab": {
          "base_uri": "https://localhost:8080/"
        },
        "id": "ayf4SeObh5pg",
        "outputId": "9ebd4d03-3e8a-46ad-be17-6a6e0b8ac8c8"
      },
      "execution_count": 73,
      "outputs": [
        {
          "output_type": "execute_result",
          "data": {
            "text/plain": [
              "array([[ 7, 14],\n",
              "       [21, 35]])"
            ]
          },
          "metadata": {},
          "execution_count": 73
        }
      ]
    },
    {
      "cell_type": "markdown",
      "source": [
        "###4. Square of Each Element of Array"
      ],
      "metadata": {
        "id": "x3QmPXefiE4a"
      }
    },
    {
      "cell_type": "code",
      "source": [
        "powArr = x ** 2\n",
        "powArr"
      ],
      "metadata": {
        "colab": {
          "base_uri": "https://localhost:8080/"
        },
        "id": "alUtkSiUiIZp",
        "outputId": "da421e55-91f3-4be2-9b18-8d7daa2f917f"
      },
      "execution_count": 74,
      "outputs": [
        {
          "output_type": "execute_result",
          "data": {
            "text/plain": [
              "array([[ 1,  4],\n",
              "       [ 9, 25]])"
            ]
          },
          "metadata": {},
          "execution_count": 74
        }
      ]
    },
    {
      "cell_type": "markdown",
      "source": [
        "###5. Dot Product"
      ],
      "metadata": {
        "id": "F9-BU9j8iQQ5"
      }
    },
    {
      "cell_type": "code",
      "source": [
        "vDotw = np.dot(v, w)\n",
        "xDotv = np.dot(x, v)\n",
        "xDoty = np.dot(x, y)\n",
        "\n",
        "print(f\"V.W: {vDotw}\")\n",
        "print(f\"X.V: {xDotv}\")\n",
        "print(f\"X.Y: \\n{xDoty}\")"
      ],
      "metadata": {
        "colab": {
          "base_uri": "https://localhost:8080/"
        },
        "id": "xmLoGkcaiTl2",
        "outputId": "66a42db2-8457-4480-bd6a-fa0990b1e6a0"
      },
      "execution_count": 75,
      "outputs": [
        {
          "output_type": "stream",
          "name": "stdout",
          "text": [
            "V.W: 219\n",
            "X.V: [29 77]\n",
            "X.Y: \n",
            "[[19 22]\n",
            " [50 58]]\n"
          ]
        }
      ]
    },
    {
      "cell_type": "markdown",
      "source": [
        "###6. Concatenate - 1"
      ],
      "metadata": {
        "id": "lIfvVtE3jN4i"
      }
    },
    {
      "cell_type": "code",
      "source": [
        "conxy = np.concatenate((x, y), axis = 0)\n",
        "convw = np.vstack((v, w))\n",
        "print(conxy)\n",
        "print()\n",
        "print(convw)"
      ],
      "metadata": {
        "colab": {
          "base_uri": "https://localhost:8080/"
        },
        "id": "b5a-KlsLixds",
        "outputId": "b0f91732-6aa7-48e8-eb39-4ae1d1f61675"
      },
      "execution_count": 76,
      "outputs": [
        {
          "output_type": "stream",
          "name": "stdout",
          "text": [
            "[[1 2]\n",
            " [3 5]\n",
            " [5 6]\n",
            " [7 8]]\n",
            "\n",
            "[[ 9 10]\n",
            " [11 12]]\n"
          ]
        }
      ]
    },
    {
      "cell_type": "markdown",
      "source": [
        "###7. Concatenate - 2 (Dimension Mismatch)"
      ],
      "metadata": {
        "id": "nOQMjHVolJk7"
      }
    },
    {
      "cell_type": "code",
      "source": [
        "conxv = np.concatenate((x, v), axis = 0)\n",
        "conxv\n",
        "##This cause error because the arrays should have the same number of dimensions\n",
        "#x is a 2D array where as v is a 1D array"
      ],
      "metadata": {
        "colab": {
          "base_uri": "https://localhost:8080/",
          "height": 193
        },
        "id": "ZWQBcb1Qklwz",
        "outputId": "e843967f-49a5-4e21-fb02-156d7cc227fc"
      },
      "execution_count": 77,
      "outputs": [
        {
          "output_type": "error",
          "ename": "ValueError",
          "evalue": "all the input arrays must have same number of dimensions, but the array at index 0 has 2 dimension(s) and the array at index 1 has 1 dimension(s)",
          "traceback": [
            "\u001b[0;31m---------------------------------------------------------------------------\u001b[0m",
            "\u001b[0;31mValueError\u001b[0m                                Traceback (most recent call last)",
            "\u001b[0;32m<ipython-input-77-ee772db1a997>\u001b[0m in \u001b[0;36m<cell line: 0>\u001b[0;34m()\u001b[0m\n\u001b[0;32m----> 1\u001b[0;31m \u001b[0mconxv\u001b[0m \u001b[0;34m=\u001b[0m \u001b[0mnp\u001b[0m\u001b[0;34m.\u001b[0m\u001b[0mconcatenate\u001b[0m\u001b[0;34m(\u001b[0m\u001b[0;34m(\u001b[0m\u001b[0mx\u001b[0m\u001b[0;34m,\u001b[0m \u001b[0mv\u001b[0m\u001b[0;34m)\u001b[0m\u001b[0;34m,\u001b[0m \u001b[0maxis\u001b[0m \u001b[0;34m=\u001b[0m \u001b[0;36m0\u001b[0m\u001b[0;34m)\u001b[0m\u001b[0;34m\u001b[0m\u001b[0;34m\u001b[0m\u001b[0m\n\u001b[0m\u001b[1;32m      2\u001b[0m \u001b[0mconxv\u001b[0m\u001b[0;34m\u001b[0m\u001b[0;34m\u001b[0m\u001b[0m\n\u001b[1;32m      3\u001b[0m \u001b[0;31m##This cause error because the arrays should have the same number of dimensions\u001b[0m\u001b[0;34m\u001b[0m\u001b[0;34m\u001b[0m\u001b[0m\n\u001b[1;32m      4\u001b[0m \u001b[0;31m#x is a 2D array where as v is a 1D array\u001b[0m\u001b[0;34m\u001b[0m\u001b[0;34m\u001b[0m\u001b[0m\n",
            "\u001b[0;31mValueError\u001b[0m: all the input arrays must have same number of dimensions, but the array at index 0 has 2 dimension(s) and the array at index 1 has 1 dimension(s)"
          ]
        }
      ]
    },
    {
      "cell_type": "markdown",
      "source": [
        "##Problem - 4: Matrix Operations"
      ],
      "metadata": {
        "id": "oWh3SQf0lP0t"
      }
    },
    {
      "cell_type": "code",
      "source": [
        "A = np.array([[3, 4], [7, 8]])\n",
        "B = np.array([[5, 3], [2, 1]])"
      ],
      "metadata": {
        "id": "Y3ihJUwjktpV"
      },
      "execution_count": 79,
      "outputs": []
    },
    {
      "cell_type": "markdown",
      "source": [
        "###1. A.A^-1 = I"
      ],
      "metadata": {
        "id": "9kPjHj2Vm_OT"
      }
    },
    {
      "cell_type": "code",
      "source": [
        "A_Inverse = np.linalg.inv(A)\n",
        "proof = np.round(np.matmul(A, A_Inverse))\n",
        "proof"
      ],
      "metadata": {
        "colab": {
          "base_uri": "https://localhost:8080/"
        },
        "id": "gndPbgFsmhsl",
        "outputId": "ea7bc223-7f1a-443b-d6e9-89fa929e8193"
      },
      "execution_count": 80,
      "outputs": [
        {
          "output_type": "execute_result",
          "data": {
            "text/plain": [
              "array([[1., 0.],\n",
              "       [0., 1.]])"
            ]
          },
          "metadata": {},
          "execution_count": 80
        }
      ]
    },
    {
      "cell_type": "markdown",
      "source": [
        "###2. AB != BA"
      ],
      "metadata": {
        "id": "3GaDIdKqnHCg"
      }
    },
    {
      "cell_type": "code",
      "source": [
        "AB = np.matmul(A, B)\n",
        "BA = np.matmul(B, A)\n",
        "\n",
        "print(f\"AB:\\n{AB} \\nBA:\\n{BA}\")"
      ],
      "metadata": {
        "colab": {
          "base_uri": "https://localhost:8080/"
        },
        "id": "ui6GTLxEnKS-",
        "outputId": "c10ca00b-fe19-4977-ecd6-53cd77fb824c"
      },
      "execution_count": 81,
      "outputs": [
        {
          "output_type": "stream",
          "name": "stdout",
          "text": [
            "AB:\n",
            "[[23 13]\n",
            " [51 29]] \n",
            "BA:\n",
            "[[36 44]\n",
            " [13 16]]\n"
          ]
        }
      ]
    },
    {
      "cell_type": "markdown",
      "source": [
        "###3. (AB)T = BT.AT"
      ],
      "metadata": {
        "id": "AE_8AaRcnKpW"
      }
    },
    {
      "cell_type": "code",
      "source": [
        "AB = np.matmul(A, B)\n",
        "AB_T = AB.T\n",
        "B_T = B.T\n",
        "A_T = A.T\n",
        "B_T_Dot_A_T = np.matmul(B_T, A_T)\n",
        "\n",
        "print(f\"AB_T: \\n{AB_T} \\n\\n B_T.A_T: \\n{B_T_Dot_A_T}\")"
      ],
      "metadata": {
        "colab": {
          "base_uri": "https://localhost:8080/"
        },
        "id": "KkCsk7denRT6",
        "outputId": "d0b33419-ce3e-44df-ef55-7675c51127db"
      },
      "execution_count": 82,
      "outputs": [
        {
          "output_type": "stream",
          "name": "stdout",
          "text": [
            "AB_T: \n",
            "[[23 51]\n",
            " [13 29]] \n",
            "\n",
            " B_T.A_T: \n",
            "[[23 51]\n",
            " [13 29]]\n"
          ]
        }
      ]
    },
    {
      "cell_type": "markdown",
      "source": [
        "###Linear Equation Using Inverse Method"
      ],
      "metadata": {
        "id": "W-cNX-1tpmxB"
      }
    },
    {
      "cell_type": "code",
      "source": [
        "A = np.array([[2, -3, 1],\n",
        "              [1, -1, 2],\n",
        "              [3, 1,  -1]])\n",
        "B = np.array([-1, -3, 9])\n",
        "\n",
        "A_Inverse = np.linalg.inv(A)\n",
        "\n",
        "X = np.matmul(A_Inverse, B)\n",
        "\n",
        "print(f\"[x y z] = {X}\")"
      ],
      "metadata": {
        "colab": {
          "base_uri": "https://localhost:8080/"
        },
        "id": "7dQxuMsVpmdZ",
        "outputId": "7e6c780a-4aef-4add-96a9-2930cc895ab7"
      },
      "execution_count": 83,
      "outputs": [
        {
          "output_type": "stream",
          "name": "stdout",
          "text": [
            "[x y z] = [ 2.  1. -2.]\n"
          ]
        }
      ]
    },
    {
      "cell_type": "markdown",
      "source": [
        "# 10.2 Experiment: How Fast is Numpy?"
      ],
      "metadata": {
        "id": "thsmNniBMSeR"
      }
    },
    {
      "cell_type": "markdown",
      "source": [
        "##Numpy Speed"
      ],
      "metadata": {
        "id": "PH8k30IUqonM"
      }
    },
    {
      "cell_type": "code",
      "source": [
        "import numpy as np\n",
        "import time\n",
        "import scipy.sparse as sparse\n",
        "import builtins\n",
        "\n",
        "size = 1000000\n",
        "matrices = 1000\n",
        "\n",
        "# Create Python lists and NumPy arrays\n",
        "pyArr1 = list(range(size))\n",
        "pyArr2 = list(range(size))\n",
        "npArr1 = np.arange(size)\n",
        "npArr2 = np.arange(size)\n",
        "\n",
        "# Time addition\n",
        "sTime = time.time()\n",
        "pySum = [pyArr1[i] + pyArr2[i] for i in range(size)]\n",
        "pyTimeAdd = time.time() - sTime\n",
        "\n",
        "sTime = time.time()\n",
        "npSum = npArr1 + npArr2\n",
        "npTimeAdd = time.time() - sTime\n",
        "\n",
        "print(f\"Addition Time: \\nNumpy: {npTimeAdd:.5f} \\nNormal Py list: {pyTimeAdd:.5f}\\n\")\n",
        "\n",
        "# Time element-wise multiplication\n",
        "sTime = time.time()\n",
        "pyMul = [pyArr1[i] * pyArr2[i] for i in range(size)]\n",
        "pyTimeMul = time.time() - sTime\n",
        "\n",
        "sTime = time.time()\n",
        "npMul = npArr1 * npArr2\n",
        "npTimeMul = time.time() - sTime\n",
        "\n",
        "print(f\"Element Multiplication Time: \\nNumpy: {npTimeMul:.5f} \\nNormal Py list: {pyTimeMul:.5f}\\n\")\n",
        "\n",
        "# Time dot product\n",
        "sTime = time.time()\n",
        "pyDot = builtins.sum(pyArr1[i] * pyArr2[i] for i in range(size))  # Use builtins.sum to avoid issues\n",
        "pyTimeDot = time.time() - sTime\n",
        "\n",
        "sTime = time.time()\n",
        "npDot = np.dot(npArr1, npArr2)\n",
        "npTimeDot = time.time() - sTime\n",
        "\n",
        "print(f\"Dot Product Time: \\nNumpy: {npTimeDot:.5f} \\nNormal Py list: {pyTimeDot:.5f}\\n\")\n",
        "\n",
        "# Create Python and NumPy matrices\n",
        "pyMat1 = [[j for j in range(matrices)] for i in range(matrices)]\n",
        "pyMat2 = [[j for j in range(matrices)] for i in range(matrices)]\n",
        "\n",
        "# Use sparse matrices to save memory\n",
        "npMat1 = sparse.csr_matrix(np.arange(matrices**2).reshape(matrices, matrices))\n",
        "npMat2 = sparse.csr_matrix(np.arange(matrices**2).reshape(matrices, matrices))\n",
        "\n",
        "# Time matrix multiplication\n",
        "sTime = time.time()\n",
        "pyMatMul = [[builtins.sum(pyMat1[i][k] * pyMat2[k][j] for k in range(matrices)) for j in range(matrices)] for i in range(matrices)]\n",
        "pyTimeMatMul = time.time() - sTime\n",
        "\n",
        "sTime = time.time()\n",
        "npMatMul = npMat1 @ npMat2  # Use sparse matrix multiplication\n",
        "npTimeMatMul = time.time() - sTime\n",
        "\n",
        "print(f\"Matrix Multiplication Time: \\nNumpy: {npTimeMatMul:.5f} \\nNormal Py list: {pyTimeMatMul:.5f}\\n\")"
      ],
      "metadata": {
        "colab": {
          "base_uri": "https://localhost:8080/"
        },
        "id": "BS_JawrEqtE9",
        "outputId": "36e6f284-f999-47ca-f62c-9cde11de3c04"
      },
      "execution_count": 85,
      "outputs": [
        {
          "output_type": "stream",
          "name": "stdout",
          "text": [
            "Addition Time: \n",
            "Numpy: 0.00561 \n",
            "Normal Py list: 0.14621\n",
            "\n",
            "Element Multiplication Time: \n",
            "Numpy: 0.00264 \n",
            "Normal Py list: 0.09189\n",
            "\n",
            "Dot Product Time: \n",
            "Numpy: 0.00185 \n",
            "Normal Py list: 0.13574\n",
            "\n",
            "Matrix Multiplication Time: \n",
            "Numpy: 4.89840 \n",
            "Normal Py list: 193.17679\n",
            "\n"
          ]
        }
      ]
    },
    {
      "cell_type": "markdown",
      "source": [
        "#4.1 Exercise on Functions"
      ],
      "metadata": {
        "id": "ZpOvcN6rNBnD"
      }
    },
    {
      "cell_type": "markdown",
      "source": [
        "#Task -1"
      ],
      "metadata": {
        "id": "dIJAIDUXNJzb"
      }
    },
    {
      "cell_type": "code",
      "source": [
        "def convert(value, from_unit, to_unit):\n",
        "    \"\"\"\n",
        "    Generic converter for length, weight, and volume.\n",
        "\n",
        "    Parameters:\n",
        "    value (float): The numeric value to convert.\n",
        "    from_unit (str): The unit to convert from.\n",
        "    to_unit (str): The unit to convert to.\n",
        "\n",
        "    Returns:\n",
        "    float: The converted value.\n",
        "    \"\"\"\n",
        "    conversions = {\n",
        "        ('m', 'ft'): 3.28084,\n",
        "        ('ft', 'm'): 1 / 3.28084,\n",
        "        ('kg', 'lbs'): 2.20462,\n",
        "        ('lbs', 'kg'): 1 / 2.20462,\n",
        "        ('l', 'gal'): 0.264172,\n",
        "        ('gal', 'l'): 1 / 0.264172\n",
        "    }\n",
        "\n",
        "    if (from_unit, to_unit) in conversions:\n",
        "        return value * conversions[(from_unit, to_unit)]\n",
        "    else:\n",
        "        raise ValueError(\"Unsupported conversion.\")\n",
        "\n",
        "\n",
        "def main():\n",
        "    print(\"Unit Conversion Program\")\n",
        "    print(\"1. Length (meters <-> feet)\")\n",
        "    print(\"2. Weight (kilograms <-> pounds)\")\n",
        "    print(\"3. Volume (liters <-> gallons)\")\n",
        "\n",
        "    try:\n",
        "        choice = input(\"Enter your choice (1/2/3): \")\n",
        "\n",
        "        units = {\n",
        "            '1': ('m', 'ft'),\n",
        "            '2': ('kg', 'lbs'),\n",
        "            '3': ('l', 'gal')\n",
        "        }\n",
        "\n",
        "        if choice not in units:\n",
        "            print(\"Invalid choice. Please enter 1, 2, or 3.\")\n",
        "            return\n",
        "\n",
        "        from_unit = input(f\"Convert from {units[choice][0]} or {units[choice][1]}: \").strip().lower()\n",
        "        if from_unit not in units[choice]:\n",
        "            print(\"Invalid unit.\")\n",
        "            return\n",
        "\n",
        "        to_unit = units[choice][1] if from_unit == units[choice][0] else units[choice][0]\n",
        "\n",
        "        value = float(input(f\"Enter the value in {from_unit}: \"))\n",
        "\n",
        "        result = convert(value, from_unit, to_unit)\n",
        "        print(f\"{value} {from_unit} is equal to {result:.2f} {to_unit}\")\n",
        "\n",
        "    except ValueError:\n",
        "        print(\"Please enter a valid number.\")\n",
        "    except Exception as e:\n",
        "        print(f\"Unexpected error: {e}\")\n",
        "\n",
        "\n",
        "if __name__ == \"__main__\":\n",
        "    main()"
      ],
      "metadata": {
        "colab": {
          "base_uri": "https://localhost:8080/"
        },
        "id": "_Oo4f8IeNMpm",
        "outputId": "23acfc2b-015a-4d9c-a695-73931f1faa2c"
      },
      "execution_count": 87,
      "outputs": [
        {
          "output_type": "stream",
          "name": "stdout",
          "text": [
            "Unit Conversion Program\n",
            "1. Length (meters <-> feet)\n",
            "2. Weight (kilograms <-> pounds)\n",
            "3. Volume (liters <-> gallons)\n",
            "Enter your choice (1/2/3): 2\n",
            "Convert from kg or lbs: kg\n",
            "Enter the value in kg: 18\n",
            "18.0 kg is equal to 39.68 lbs\n"
          ]
        }
      ]
    },
    {
      "cell_type": "markdown",
      "source": [
        "# Task - 2"
      ],
      "metadata": {
        "id": "lxG9EkCLNnsl"
      }
    },
    {
      "cell_type": "code",
      "source": [
        " import numpy as np\n",
        "\n",
        "def find_sum(numbers):\n",
        "    \"\"\"\n",
        "    Calculate the sum of a list of numbers.\n",
        "\n",
        "    Parameters:\n",
        "    numbers (list): A list of numbers.\n",
        "\n",
        "    Returns:\n",
        "    float: The sum of the numbers.\n",
        "    \"\"\"\n",
        "    return np.sum(numbers)  # Use numpy sum\n",
        "\n",
        "def find_average(numbers):\n",
        "    \"\"\"\n",
        "    Calculate the average of a list of numbers.\n",
        "\n",
        "    Parameters:\n",
        "    numbers (list): A list of numbers.\n",
        "\n",
        "    Returns:\n",
        "    float: The average of the numbers.\n",
        "    \"\"\"\n",
        "    return np.mean(numbers)  # Use numpy mean\n",
        "\n",
        "def find_maximum(numbers):\n",
        "    \"\"\"\n",
        "    Find the maximum value in a list of numbers.\n",
        "\n",
        "    Parameters:\n",
        "    numbers (list): A list of numbers.\n",
        "\n",
        "    Returns:\n",
        "    float: The maximum value.\n",
        "    \"\"\"\n",
        "    return np.max(numbers)  # Use numpy max\n",
        "\n",
        "def find_minimum(numbers):\n",
        "    \"\"\"\n",
        "    Find the minimum value in a list of numbers.\n",
        "\n",
        "    Parameters:\n",
        "    numbers (list): A list of numbers.\n",
        "\n",
        "    Returns:\n",
        "    float: The minimum value.\n",
        "    \"\"\"\n",
        "    return np.min(numbers)  # Use numpy min\n",
        "\n",
        "\n",
        "\n",
        "def main():\n",
        "    print(\"Mathematical Operations on a List of Numbers\")\n",
        "    print(\"1. Find Sum\")\n",
        "    print(\"2. Find Average\")\n",
        "    print(\"3. Find Maximum\")\n",
        "    print(\"4. Find Minimum\")\n",
        "\n",
        "    try:\n",
        "        # Get the operation choice\n",
        "        choice = input(\"Choose an operation (1/2/3/4): \")\n",
        "\n",
        "        # Check if the choice is valid\n",
        "        if choice not in ['1', '2', '3', '4']:\n",
        "            print(\"Invalid choice. Please choose 1, 2, 3, or 4.\")\n",
        "            return\n",
        "\n",
        "        # Get the list of numbers\n",
        "        numbers_input = input(\"Enter a list of numbers separated by spaces: \").strip()\n",
        "\n",
        "        if not numbers_input:\n",
        "            raise ValueError(\"No numbers entered. Please provide a valid list of numbers.\")\n",
        "\n",
        "        # Convert the input to a list of floats\n",
        "        numbers = [float(num) for num in numbers_input.split()]\n",
        "\n",
        "        if len(numbers) == 0:\n",
        "            raise ValueError(\"The list is empty. Please enter at least one number.\")\n",
        "\n",
        "        print(f\"Operation: {choice}\")\n",
        "        print(f\"Numbers entered: {numbers}\")\n",
        "\n",
        "        # Perform the chosen operation\n",
        "        if choice == '1':\n",
        "            result = find_sum(numbers)\n",
        "            print(f\"The sum of the numbers is: {result}\")\n",
        "        elif choice == '2':\n",
        "            result = find_average(numbers)\n",
        "            print(f\"The average of the numbers is: {result}\")\n",
        "        elif choice == '3':\n",
        "            result = find_maximum(numbers)\n",
        "            print(f\"The maximum value is: {result}\")\n",
        "        elif choice == '4':\n",
        "            result = find_minimum(numbers)\n",
        "            print(f\"The minimum value is: {result}\")\n",
        "\n",
        "    except ValueError as ve:\n",
        "        print(f\"Error: {ve}\")\n",
        "    except Exception as e:\n",
        "        print(f\"Unexpected error: {e}\")\n",
        "\n",
        "\n",
        "if __name__ == \"__main__\":\n",
        "    main()"
      ],
      "metadata": {
        "colab": {
          "base_uri": "https://localhost:8080/"
        },
        "id": "Ju3Ao49KNvxo",
        "outputId": "6b3fd347-0077-4474-ba48-3b747836d327"
      },
      "execution_count": 88,
      "outputs": [
        {
          "output_type": "stream",
          "name": "stdout",
          "text": [
            "Mathematical Operations on a List of Numbers\n",
            "1. Find Sum\n",
            "2. Find Average\n",
            "3. Find Maximum\n",
            "4. Find Minimum\n",
            "Choose an operation (1/2/3/4): 3\n",
            "Enter a list of numbers separated by spaces: 1 9 8 18\n",
            "Operation: 3\n",
            "Numbers entered: [1.0, 9.0, 8.0, 18.0]\n",
            "The maximum value is: 18.0\n"
          ]
        }
      ]
    },
    {
      "cell_type": "markdown",
      "source": [
        "# 4.2 Exercise on List Manipulation"
      ],
      "metadata": {
        "id": "20Y86wVgTWHV"
      }
    },
    {
      "cell_type": "markdown",
      "source": [
        "# 1. Extract Every Other Element"
      ],
      "metadata": {
        "id": "tiIxgr9ZThGn"
      }
    },
    {
      "cell_type": "code",
      "source": [
        "\n",
        "\n",
        "def extract_every_other(lst):\n",
        "    \"\"\"\n",
        "    Extract every other element from the list, starting from the first element.\n",
        "\n",
        "    Parameters:\n",
        "    lst (list): The list from which to extract every other element.\n",
        "\n",
        "    Returns:\n",
        "    list: A new list containing every other element from the original list.\n",
        "    \"\"\"\n",
        "    return lst[::2]  # Using list slicing to extract every other element\n",
        "\n",
        "# Taking input from the user\n",
        "user_input = input(\"Enter a list of numbers separated by spaces: \")\n",
        "lst = [int(num) for num in user_input.split()]\n",
        "\n",
        "# Calling the function and displaying the result\n",
        "result = extract_every_other(lst)\n",
        "print(\"Every other element:\", result)"
      ],
      "metadata": {
        "colab": {
          "base_uri": "https://localhost:8080/"
        },
        "id": "1QxsXD-ST5Fy",
        "outputId": "d8e366b4-ba21-4dbf-d3eb-13e5c828b64d"
      },
      "execution_count": 89,
      "outputs": [
        {
          "output_type": "stream",
          "name": "stdout",
          "text": [
            "Enter a list of numbers separated by spaces: 4 2 8 16 1\n",
            "Every other element: [4, 8, 1]\n"
          ]
        }
      ]
    },
    {
      "cell_type": "markdown",
      "source": [
        "# 2. Slice a Sublist"
      ],
      "metadata": {
        "id": "0fzhXXAoToix"
      }
    },
    {
      "cell_type": "code",
      "source": [
        "\n",
        "\n",
        "def get_sublist(lst, start, end):\n",
        "    \"\"\"\n",
        "    Returns a sublist from the given list, starting from the 'start' index and ending at the 'end' index (inclusive).\n",
        "\n",
        "    Parameters:\n",
        "    lst (list): The list to slice.\n",
        "    start (int): The starting index (inclusive).\n",
        "    end (int): The ending index (inclusive).\n",
        "\n",
        "    Returns:\n",
        "    list: A sublist from the 'start' to 'end' indices.\n",
        "    \"\"\"\n",
        "    return lst[start:end+1]  # Slicing from start to end (inclusive)\n",
        "\n",
        "\n",
        "lst = [1, 2, 3, 4, 5, 6]\n",
        "start = input(\"Enter the start index: \")\n",
        "end = input(\"Enter the end index: \")\n",
        "\n",
        "# Convert start and end to integers\n",
        "start = int(start)\n",
        "end = int(end)\n",
        "result = get_sublist(lst, start, end)\n",
        "print(result)"
      ],
      "metadata": {
        "colab": {
          "base_uri": "https://localhost:8080/"
        },
        "id": "gLPE7QsyT6Cj",
        "outputId": "650a29ae-1f34-4e71-bc6f-96cd29486b83"
      },
      "execution_count": 92,
      "outputs": [
        {
          "output_type": "stream",
          "name": "stdout",
          "text": [
            "Enter the start index: 1\n",
            "Enter the end index: 5\n",
            "[2, 3, 4, 5, 6]\n"
          ]
        }
      ]
    },
    {
      "cell_type": "markdown",
      "source": [
        "# 3. Reverse a List Using Slicing"
      ],
      "metadata": {
        "id": "xYwAZOQETsCl"
      }
    },
    {
      "cell_type": "code",
      "source": [
        "\n",
        "def reverse_list(lst):\n",
        "    \"\"\"\n",
        "    Reverses the given list using slicing.\n",
        "\n",
        "    Parameters:\n",
        "    lst (list): The list to reverse.\n",
        "\n",
        "    Returns:\n",
        "    list: The reversed list.\n",
        "    \"\"\"\n",
        "    return lst[::-1]  # Using slicing to reverse the list\n",
        "\n",
        "\n",
        "lst = [1, 2, 3, 4, 5]\n",
        "result = reverse_list(lst)\n",
        "print(result)"
      ],
      "metadata": {
        "colab": {
          "base_uri": "https://localhost:8080/"
        },
        "id": "OT37BjcnT6hq",
        "outputId": "5b55f3cd-bfb1-43be-c576-625e3642294b"
      },
      "execution_count": 93,
      "outputs": [
        {
          "output_type": "stream",
          "name": "stdout",
          "text": [
            "[5, 4, 3, 2, 1]\n"
          ]
        }
      ]
    },
    {
      "cell_type": "markdown",
      "source": [
        "# 4. Remove the First and Last Elements"
      ],
      "metadata": {
        "id": "dX73PeB-TxlK"
      }
    },
    {
      "cell_type": "code",
      "source": [
        "\n",
        "def remove_first_last(lst):\n",
        "    \"\"\"\n",
        "    Removes the first and last elements of the list and returns the resulting sublist.\n",
        "\n",
        "    Parameters:\n",
        "    lst (list): The list from which to remove the first and last elements.\n",
        "\n",
        "    Returns:\n",
        "    list: The sublist without the first and last elements.\n",
        "    \"\"\"\n",
        "    return lst[1:-1]  # Slicing from the second element to the second-to-last element\n",
        "\n",
        "\n",
        "lst = [1, 2, 3, 4, 5]\n",
        "print(remove_first_last(lst))"
      ],
      "metadata": {
        "colab": {
          "base_uri": "https://localhost:8080/"
        },
        "id": "uTho0VYJT7jy",
        "outputId": "a6822323-2785-4ab8-9b6b-e6d52330e3f7"
      },
      "execution_count": 94,
      "outputs": [
        {
          "output_type": "stream",
          "name": "stdout",
          "text": [
            "[2, 3, 4]\n"
          ]
        }
      ]
    },
    {
      "cell_type": "markdown",
      "source": [
        "# 5. Get the First n Elements"
      ],
      "metadata": {
        "id": "0HDTh8MyT1iG"
      }
    },
    {
      "cell_type": "code",
      "source": [
        "\n",
        "def get_first_n(lst, n):\n",
        "    \"\"\"\n",
        "    Extracts the first n elements from the list.\n",
        "    \"\"\"\n",
        "    return lst[:n]  # Slicing the first n elements\n",
        "\n",
        "# Taking input from user\n",
        "lst_input = input(\"Enter the list of numbers separated by spaces: \")\n",
        "lst = [int(x) for x in lst_input.split()]\n",
        "n = int(input(\"Enter the number of elements to extract from the start: \"))\n",
        "print(get_first_n(lst, n))"
      ],
      "metadata": {
        "colab": {
          "base_uri": "https://localhost:8080/"
        },
        "id": "cawVd0J2T8yu",
        "outputId": "c5bca991-c5b4-4f23-a468-26a13f5a386b"
      },
      "execution_count": 96,
      "outputs": [
        {
          "output_type": "stream",
          "name": "stdout",
          "text": [
            "Enter the list of numbers separated by spaces: 1 4 22 9 24\n",
            "Enter the number of elements to extract from the start: 4\n",
            "[1, 4, 22, 9]\n"
          ]
        }
      ]
    },
    {
      "cell_type": "markdown",
      "source": [
        "# 6. Extract Elements from the End"
      ],
      "metadata": {
        "id": "ShdB4954UJnz"
      }
    },
    {
      "cell_type": "code",
      "source": [
        "\n",
        "def get_last_n(lst, n):\n",
        "    \"\"\"\n",
        "    Extracts the last n elements from the list.\n",
        "    \"\"\"\n",
        "    return lst[-n:]  # Slicing the last n elements\n",
        "\n",
        "# Taking input from user\n",
        "lst_input = input(\"Enter the list of numbers separated by spaces: \")\n",
        "lst = [int(x) for x in lst_input.split()]\n",
        "n = int(input(\"Enter the number of elements to extract from the end: \"))\n",
        "print(get_last_n(lst, n))"
      ],
      "metadata": {
        "colab": {
          "base_uri": "https://localhost:8080/"
        },
        "id": "JlkZd8eeUMT1",
        "outputId": "1a7d9c26-eac1-436c-85ab-3523589c2a7a"
      },
      "execution_count": 97,
      "outputs": [
        {
          "output_type": "stream",
          "name": "stdout",
          "text": [
            "Enter the list of numbers separated by spaces: 8 6 22 4\n",
            "Enter the number of elements to extract from the end: 3\n",
            "[6, 22, 4]\n"
          ]
        }
      ]
    },
    {
      "cell_type": "markdown",
      "source": [
        "# 7. Extract Elements in Reverse Order"
      ],
      "metadata": {
        "id": "wg3Gyz6uUL2y"
      }
    },
    {
      "cell_type": "code",
      "source": [
        "\n",
        "def reverse_skip(lst):\n",
        "    \"\"\"\n",
        "    Extracts elements in reverse order starting from the second-to-last element,\n",
        "    skipping one element in between.\n",
        "    \"\"\"\n",
        "    return lst[-2::-2]  # Slicing to get every second element in reverse order starting from the second-to-last\n",
        "\n",
        "# Taking input from user\n",
        "lst_input = input(\"Enter the list of numbers separated by spaces: \")\n",
        "lst = [int(x) for x in lst_input.split()]\n",
        "print(reverse_skip(lst))"
      ],
      "metadata": {
        "colab": {
          "base_uri": "https://localhost:8080/"
        },
        "id": "xurKLjQiUS1D",
        "outputId": "88a011cc-a2ac-43be-c920-5121f115b6e5"
      },
      "execution_count": 98,
      "outputs": [
        {
          "output_type": "stream",
          "name": "stdout",
          "text": [
            "Enter the list of numbers separated by spaces: 8 62 1 2 4\n",
            "[2, 62]\n"
          ]
        }
      ]
    },
    {
      "cell_type": "markdown",
      "source": [
        "# 4.3  Exercise on Nested List"
      ],
      "metadata": {
        "id": "eE-PVi9qUXPX"
      }
    },
    {
      "cell_type": "markdown",
      "source": [
        "# 1. Flatten a Nested List"
      ],
      "metadata": {
        "id": "myDyf3nnUbZi"
      }
    },
    {
      "cell_type": "code",
      "source": [
        "\n",
        "def flatten(lst):\n",
        "    \"\"\"\n",
        "    Flattens a nested list into a single list.\n",
        "\n",
        "    Parameters:\n",
        "    lst (list): The nested list to flatten.\n",
        "\n",
        "    Returns:\n",
        "    list: A flattened list containing all elements.\n",
        "    \"\"\"\n",
        "    flattened = []\n",
        "    for item in lst:\n",
        "        if isinstance(item, list):\n",
        "            flattened.extend(flatten(item))  # Recursively flatten if the item is a list\n",
        "        else:\n",
        "            flattened.append(item)\n",
        "    return flattened\n",
        "\n",
        "\n",
        "nested_lst = [[2, 2], [8, 7], [8]]\n",
        "flattened_lst = flatten(nested_lst)\n",
        "print(\"Flattened List:\", flattened_lst)"
      ],
      "metadata": {
        "colab": {
          "base_uri": "https://localhost:8080/"
        },
        "id": "sa9ISpVhUfAH",
        "outputId": "031b1c1a-2c95-49e1-f357-50c4518ccf0f"
      },
      "execution_count": 100,
      "outputs": [
        {
          "output_type": "stream",
          "name": "stdout",
          "text": [
            "Flattened List: [2, 2, 8, 7, 8]\n"
          ]
        }
      ]
    },
    {
      "cell_type": "markdown",
      "source": [
        "# 2. Accessing Nested List Elements"
      ],
      "metadata": {
        "id": "q_pXOCrUUf8x"
      }
    },
    {
      "cell_type": "code",
      "source": [
        "\n",
        "def access_nested_element(lst, indices):\n",
        "    \"\"\"\n",
        "    Extracts an element from a nested list based on a list of indices.\n",
        "\n",
        "    Parameters:\n",
        "    lst (list): The nested list to access.\n",
        "    indices (list): A list of indices to access the element.\n",
        "\n",
        "    Returns:\n",
        "    element: The element at the specified indices.\n",
        "    \"\"\"\n",
        "    for index in indices:\n",
        "        lst = lst[index]\n",
        "    return lst\n",
        "\n",
        "\n",
        "nested_lst = [[9, 1, 4], [3, 8, 7], [5, 4, 2]]\n",
        "indices = [1, 2]\n",
        "element = access_nested_element(nested_lst, indices)\n",
        "print(\"Accessed Element:\", element)"
      ],
      "metadata": {
        "colab": {
          "base_uri": "https://localhost:8080/"
        },
        "id": "UMXhwCfuUiad",
        "outputId": "5197c6ef-d65a-43d7-95b2-8b44d5ae3f85"
      },
      "execution_count": 107,
      "outputs": [
        {
          "output_type": "stream",
          "name": "stdout",
          "text": [
            "Accessed Element: 7\n"
          ]
        }
      ]
    },
    {
      "cell_type": "markdown",
      "source": [
        "# 3. Sum of All Elements in a Nested List"
      ],
      "metadata": {
        "id": "8LfdVafMUi6E"
      }
    },
    {
      "cell_type": "code",
      "source": [
        "\n",
        "def sum_nested(lst):\n",
        "    \"\"\"\n",
        "    Calculates the sum of all elements in a nested list, regardless of depth.\n",
        "\n",
        "    Parameters:\n",
        "    lst (list): The nested list to sum.\n",
        "\n",
        "    Returns:\n",
        "    int: The sum of all elements.\n",
        "    \"\"\"\n",
        "    total = 0\n",
        "    for item in lst:\n",
        "        if isinstance(item, list):\n",
        "            total += sum_nested(item)  # Recursively sum if the item is a list\n",
        "        else:\n",
        "            total += item\n",
        "    return total\n",
        "\n",
        "\n",
        "nested_lst = [[8, 4], [6, [2, 8]], 2]\n",
        "sum_result = sum_nested(nested_lst)\n",
        "print(\"Sum of All Elements:\", sum_result)"
      ],
      "metadata": {
        "colab": {
          "base_uri": "https://localhost:8080/"
        },
        "id": "pm9O1zJCUpJF",
        "outputId": "cb43da9d-7f0f-4f38-ee26-fd76878a6969"
      },
      "execution_count": 109,
      "outputs": [
        {
          "output_type": "stream",
          "name": "stdout",
          "text": [
            "Sum of All Elements: 30\n"
          ]
        }
      ]
    },
    {
      "cell_type": "markdown",
      "source": [
        "# 4. Remove Specific Element from a Nested List"
      ],
      "metadata": {
        "id": "qtKF9PO6Ur8m"
      }
    },
    {
      "cell_type": "code",
      "source": [
        "\n",
        "def remove_element(lst, elem):\n",
        "    \"\"\"\n",
        "    Removes all occurrences of a specific element from a nested list.\n",
        "\n",
        "    Parameters:\n",
        "    lst (list): The nested list to modify.\n",
        "    elem: The element to remove.\n",
        "\n",
        "    Returns:\n",
        "    list: The modified list with the element removed.\n",
        "    \"\"\"\n",
        "    for i in range(len(lst)):\n",
        "        if isinstance(lst[i], list):\n",
        "            lst[i] = remove_element(lst[i], elem)\n",
        "        else:\n",
        "            if lst[i] == elem:\n",
        "                lst[i] = None  # Set to None to delete\n",
        "    return [item for item in lst if item is not None]\n",
        "\n",
        "# Example usage:\n",
        "nested_lst = [[1, 2], [3, 2], [4, 5]]\n",
        "print(\"Original List:\", nested_lst)\n",
        "elem_to_remove = int(input(\"Enter the element to remove: \"))\n",
        "removed_lst = remove_element(nested_lst, elem_to_remove)\n",
        "print(\"List After Removal:\", removed_lst)"
      ],
      "metadata": {
        "colab": {
          "base_uri": "https://localhost:8080/"
        },
        "id": "U1gH_D1yUv9N",
        "outputId": "bd53d2b6-de01-4e27-ef41-a07518954f1f"
      },
      "execution_count": 111,
      "outputs": [
        {
          "output_type": "stream",
          "name": "stdout",
          "text": [
            "Original List: [[1, 2], [3, 2], [4, 5]]\n",
            "Enter the element to remove: 5\n",
            "List After Removal: [[1, 2], [3, 2], [4]]\n"
          ]
        }
      ]
    },
    {
      "cell_type": "markdown",
      "source": [
        "# 5. Find the Maximum Element in a Nested List"
      ],
      "metadata": {
        "id": "aMRO946lU183"
      }
    },
    {
      "cell_type": "code",
      "source": [
        "import builtins\n",
        "\n",
        "\n",
        "def find_max(lst):\n",
        "    \"\"\"\n",
        "    Finds the maximum element in a nested list, regardless of depth.\n",
        "\n",
        "    Parameters:\n",
        "    lst (list): The nested list to find the maximum value in.\n",
        "\n",
        "    Returns:\n",
        "    int: The maximum value.\n",
        "    \"\"\"\n",
        "    max_val = float('-inf')\n",
        "    for item in lst:\n",
        "        if isinstance(item, list):\n",
        "            max_val = builtins.max(max_val, find_max(item))  # Use the built-in max explicitly if needed\n",
        "        else:\n",
        "            max_val = builtins.max(max_val, item)  # Ensure built-in max is used\n",
        "    return max_val\n",
        "\n",
        "# Example usage:\n",
        "nested_lst = [[1, 2], [3, [4, 5]], 6]\n",
        "max_element = find_max(nested_lst)\n",
        "print(\"Maximum Element:\", max_element)"
      ],
      "metadata": {
        "colab": {
          "base_uri": "https://localhost:8080/"
        },
        "id": "NrfLpqxcUxya",
        "outputId": "47be9937-bb88-4d8a-83b2-46c9009b39aa"
      },
      "execution_count": 112,
      "outputs": [
        {
          "output_type": "stream",
          "name": "stdout",
          "text": [
            "Maximum Element: 6\n"
          ]
        }
      ]
    },
    {
      "cell_type": "markdown",
      "source": [
        "# 6. Count Occurrences of an Element in a Nested List:"
      ],
      "metadata": {
        "id": "kmZXmXCKU4Tf"
      }
    },
    {
      "cell_type": "code",
      "source": [
        "def count_occurrences(lst, elem):\n",
        "    \"\"\"\n",
        "    Counts how many times a specific element appears in a nested list.\n",
        "\n",
        "    Parameters:\n",
        "    lst (list): The nested list to search.\n",
        "    elem: The element to count.\n",
        "\n",
        "    Returns:\n",
        "    int: The count of the element in the list.\n",
        "    \"\"\"\n",
        "    count = 0\n",
        "    for item in lst:\n",
        "        if isinstance(item, list):\n",
        "            count += count_occurrences(item, elem)  # Recursively count if the item is a list\n",
        "        else:\n",
        "            if item == elem:\n",
        "                count += 1\n",
        "    return count\n",
        "\n",
        "# Example usage:\n",
        "nested_lst = [[1, 2], [2, 3], [2, 4]]\n",
        "elem_to_count = 2\n",
        "occurrences = count_occurrences(nested_lst, elem_to_count)\n",
        "print(\"Occurrences of Element:\", occurrences)"
      ],
      "metadata": {
        "colab": {
          "base_uri": "https://localhost:8080/"
        },
        "id": "gM0D1KLrU85a",
        "outputId": "ff1b0d81-2709-4497-a60e-90caaa1a8f87"
      },
      "execution_count": 113,
      "outputs": [
        {
          "output_type": "stream",
          "name": "stdout",
          "text": [
            "Occurrences of Element: 3\n"
          ]
        }
      ]
    },
    {
      "cell_type": "markdown",
      "source": [
        "# 7. Flatten a List of Lists of Lists"
      ],
      "metadata": {
        "id": "92dsGqrlU9d0"
      }
    },
    {
      "cell_type": "code",
      "source": [
        "def deep_flatten(lst):\n",
        "    \"\"\"\n",
        "    Flattens a deeply nested list of lists into a single list.\n",
        "\n",
        "    Parameters:\n",
        "    lst (list): The deeply nested list to flatten.\n",
        "\n",
        "    Returns:\n",
        "    list: A flattened list containing all elements.\n",
        "    \"\"\"\n",
        "    flattened = []\n",
        "    for item in lst:\n",
        "        if isinstance(item, list):\n",
        "            flattened.extend(deep_flatten(item))  # Recursively flatten if the item is a list\n",
        "        else:\n",
        "            flattened.append(item)\n",
        "    return flattened\n",
        "\n",
        "deep_nested_lst = [[[1, 2], [3, 4]], [[5, 6], [7, 8]]]\n",
        "deep_flattened_lst = deep_flatten(deep_nested_lst)\n",
        "print(\"Deep Flattened List:\", deep_flattened_lst)"
      ],
      "metadata": {
        "colab": {
          "base_uri": "https://localhost:8080/"
        },
        "id": "3sMfDBhGVAQT",
        "outputId": "425f9f21-5b98-486f-cef4-3849fe8ee8af"
      },
      "execution_count": 114,
      "outputs": [
        {
          "output_type": "stream",
          "name": "stdout",
          "text": [
            "Deep Flattened List: [1, 2, 3, 4, 5, 6, 7, 8]\n"
          ]
        }
      ]
    },
    {
      "cell_type": "markdown",
      "source": [
        "# 8. Nested List Average:"
      ],
      "metadata": {
        "id": "XOGfKf7fVAye"
      }
    },
    {
      "cell_type": "code",
      "source": [
        "def average_nested(lst):\n",
        "    \"\"\"\n",
        "    Calculates the average of all elements in a nested list.\n",
        "\n",
        "    Parameters:\n",
        "    lst (list): The nested list to calculate the average from.\n",
        "\n",
        "    Returns:\n",
        "    float: The average of all elements.\n",
        "    \"\"\"\n",
        "    total = 0\n",
        "    count = 0\n",
        "    for item in lst:\n",
        "        if isinstance(item, list):\n",
        "            sub_total, sub_count = average_nested(item)\n",
        "            total += sub_total\n",
        "            count += sub_count\n",
        "        else:\n",
        "            total += item\n",
        "            count += 1\n",
        "    return total, count\n",
        "\n",
        "# 8.1 Function to calculate average:\n",
        "def get_average(lst):\n",
        "    total, count = average_nested(lst)\n",
        "    return total / count if count != 0 else 0\n",
        "\n",
        "# Example usage:\n",
        "nested_lst = [[1, 2], [3, 4], [5, 6]]\n",
        "avg_result = get_average(nested_lst)\n",
        "print(\"Average of Elements:\", avg_result)"
      ],
      "metadata": {
        "colab": {
          "base_uri": "https://localhost:8080/"
        },
        "id": "Gbq4y2P8VDOU",
        "outputId": "50c5f2c0-c33c-42eb-8375-22a4ad6a8f33"
      },
      "execution_count": 115,
      "outputs": [
        {
          "output_type": "stream",
          "name": "stdout",
          "text": [
            "Average of Elements: 3.5\n"
          ]
        }
      ]
    }
  ]
}